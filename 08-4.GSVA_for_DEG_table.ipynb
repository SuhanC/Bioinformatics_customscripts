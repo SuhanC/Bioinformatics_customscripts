{
 "cells": [
  {
   "cell_type": "markdown",
   "id": "intellectual-museum",
   "metadata": {},
   "source": [
    "# GSVA to t test "
   ]
  },
  {
   "cell_type": "code",
   "execution_count": 1,
   "id": "hidden-joshua",
   "metadata": {
    "vscode": {
     "languageId": "r"
    }
   },
   "outputs": [],
   "source": [
    "get_gene_df=function(gmt){\n",
    "    genes=list()\n",
    "    gene_df = read.delim(gmt,sep='\\t',header=F)\n",
    "    for (i in 1:nrow(gene_df)){\n",
    "        g = as.character(gene_df[i,3:ncol(gene_df)])\n",
    "        g = g[g!=\"\"]\n",
    "        genes[[as.character(gene_df$V1[i])]] = g\n",
    "    }\n",
    "    return(genes)\n",
    "}"
   ]
  },
  {
   "cell_type": "code",
   "execution_count": 6,
   "id": "ff558445",
   "metadata": {
    "vscode": {
     "languageId": "r"
    }
   },
   "outputs": [],
   "source": [
    "main=function(path_gmt,gct_file,cls_file,genelist_file,outpath,outname){\n",
    "    library('GSVA') \n",
    "    genelist=list()\n",
    "    for (c in list.files(path_gmt))\n",
    "    { \n",
    "    gmt_list =paste0(path_gmt,c)\n",
    "    genelist = c(genelist,get_gene_df(gmt_list))\n",
    "    }\n",
    "\n",
    "    deg = read.table(gct_file, sep=\"\\t\",skip=2,header=T,row.names = 1)\n",
    "    deg$DESCRIPTION=NULL\n",
    "\n",
    "    genes_top3 = read.table(genelist_file,header=F)$V1\n",
    "\n",
    "    class_vector = t(read.table(cls_file,sep=' ',skip=2))\n",
    "    class_vector = as.character(class_vector)\n",
    "    deg = deg[rownames(deg)%in%genes_top3,]\n",
    "\n",
    "    row = rownames(deg)\n",
    "    deg = as.data.frame(sapply(deg, as.numeric))\n",
    "    rownames(deg) = row\n",
    "\n",
    "    deg = as.matrix(deg)\n",
    "\n",
    "\n",
    "    gsva_es <- gsva(deg, genelist,class_vector,method = 'gsva')\n",
    "\n",
    "\n",
    "    gsva_es = as.data.frame(gsva_es)\n",
    "    gsva_es[c('group'),]=  as.numeric(class_vector)\n",
    "    gsva_es = t(gsva_es)\n",
    "    gsva_es = as.data.frame(gsva_es)\n",
    "    gsva_es = unique(gsva_es)\n",
    "\n",
    "\n",
    "    ttest_ls=c()\n",
    "    cols = colnames(gsva_es)\n",
    "    cols = cols[cols!='group']\n",
    "    for (i in cols){\n",
    "        group1 = as.numeric(gsva_es[gsva_es$group==1,i])\n",
    "        group0 = as.numeric(gsva_es[gsva_es$group==0,i])\n",
    "        tt = t.test(group1,group0)\n",
    "        tt = tt$p.value\n",
    "        ttest_ls = c(ttest_ls,tt)\n",
    "    }\n",
    "    gsva_es$group=NULL\n",
    "    gsva_es[c('PVAL'),] = ttest_ls\n",
    "    gvsa_es = t(gsva_es)\n",
    "    gvsa_es = as.data.frame(gsva_es)\n",
    "    write.table(gsva_es[,c(gsva_es[c('PVAL'),]<0.05)],paste0(outpath,outname,'.0.05.tsv',collapse=''),sep='\\t',quote=FALSE)\n",
    "    write.table(gsva_es,paste0(outpath,outname,'.tsv',collapse=''),sep='\\t',quote=FALSE)\n",
    "\n",
    "    return(0)\n",
    "}"
   ]
  },
  {
   "cell_type": "code",
   "execution_count": 7,
   "id": "4eef93c4",
   "metadata": {
    "vscode": {
     "languageId": "r"
    }
   },
   "outputs": [],
   "source": [
    "PATH_GMT = '~/data/Cancer_ML/gmtfiles/'\n",
    "GCT_FILE = \"/home/sysbioinfo1/data/Cancer_ML/meta_GSEA_in.gct\"\n",
    "CLS_FILE = \"/home/sysbioinfo1/data/Cancer_ML/meta_GSEA_in.cls\"\n",
    "GENELIST_FILE = '~/data//Cancer_ML/top3genes.txt'\n",
    "OUTPATH = '/home/sysbioinfo1/data/Cancer_ML/'\n",
    "OUTNAME = 'Rank0'"
   ]
  },
  {
   "cell_type": "code",
   "execution_count": 8,
   "id": "97e921df",
   "metadata": {
    "vscode": {
     "languageId": "r"
    }
   },
   "outputs": [
    {
     "name": "stderr",
     "output_type": "stream",
     "text": [
      "Warning message in .gsva(expr, mapped.gset.idx.list, method, kcdf, rnaseq, abs.ranking, :\n",
      "“Some gene sets have size one. Consider setting 'min.sz > 1'.”\n"
     ]
    },
    {
     "name": "stdout",
     "output_type": "stream",
     "text": [
      "Estimating GSVA scores for 7828 gene sets.\n",
      "Estimating ECDFs with Gaussian kernels\n",
      "  |======================================================================| 100%\n",
      "\n"
     ]
    },
    {
     "data": {
      "text/html": [
       "0"
      ],
      "text/latex": [
       "0"
      ],
      "text/markdown": [
       "0"
      ],
      "text/plain": [
       "[1] 0"
      ]
     },
     "metadata": {},
     "output_type": "display_data"
    }
   ],
   "source": [
    "main(PATH_GMT,GCT_FILE,CLS_FILE,GENELIST_FILE,OUTPATH,OUTNAME)"
   ]
  }
 ],
 "metadata": {
  "kernelspec": {
   "display_name": "R",
   "language": "R",
   "name": "ir"
  },
  "language_info": {
   "codemirror_mode": "r",
   "file_extension": ".r",
   "mimetype": "text/x-r-source",
   "name": "R",
   "pygments_lexer": "r",
   "version": "4.1.2"
  }
 },
 "nbformat": 4,
 "nbformat_minor": 5
}
